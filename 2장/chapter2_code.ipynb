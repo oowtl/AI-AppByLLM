{
 "cells": [
  {
   "metadata": {},
   "cell_type": "markdown",
   "source": "# 예제 2.1 토큰화 코드\n",
   "id": "73ac76754d3c72c9"
  },
  {
   "metadata": {
    "ExecuteTime": {
     "end_time": "2025-03-19T14:00:08.313889Z",
     "start_time": "2025-03-19T14:00:08.310162Z"
    }
   },
   "cell_type": "code",
   "source": [
    "# 띄워쓰기 단위로 분리\n",
    "input_text  = \"나는 최근 파리 여행을 다녀왔다\"\n",
    "\n",
    "# 공백 단위로 분리\n",
    "input_text_list = input_text.split()\n",
    "print(f\"input_text_list : ${input_text_list}\")\n",
    "\n",
    "# 토큰 -> 아이디 딕셔너리 만들기\n",
    "str2idx = {word:idx for idx, word in enumerate(input_text_list)}\n",
    "print(f\"str2idx : {str2idx}\")\n",
    "\n",
    "# 아이디 -> 토큰 딕셔너리 만들기\n",
    "idx2str = {idx:word for idx, word in enumerate(input_text_list)}\n",
    "print(f\"idx2str : {idx2str}\")\n",
    "\n",
    "# 토큰을 토큰 아이디로 변환\n",
    "input_ids = [str2idx[word] for word in input_text_list]\n",
    "print(f\"input_ids : {input_ids}\")"
   ],
   "id": "b8b7440f49572c71",
   "outputs": [
    {
     "name": "stdout",
     "output_type": "stream",
     "text": [
      "input_text_list : $['나는', '최근', '파리', '여행을', '다녀왔다']\n",
      "str2idx : {'나는': 0, '최근': 1, '파리': 2, '여행을': 3, '다녀왔다': 4}\n",
      "idx2str : {0: '나는', 1: '최근', 2: '파리', 3: '여행을', 4: '다녀왔다'}\n",
      "input_ids : [0, 1, 2, 3, 4]\n"
     ]
    }
   ],
   "execution_count": 1
  },
  {
   "metadata": {},
   "cell_type": "markdown",
   "source": "# 예제 2.2 토큰 아이디에서 벡터로 변환",
   "id": "b16bf0a93359dd3c"
  },
  {
   "metadata": {
    "ExecuteTime": {
     "end_time": "2025-03-19T15:48:46.434831Z",
     "start_time": "2025-03-19T15:48:46.402519Z"
    }
   },
   "cell_type": "code",
   "source": [
    "import torch\n",
    "import torch.nn as nn\n",
    "\n",
    "# 임베딩 차원\n",
    "embedding_dim = 16\n",
    "# 임베딩 레이어 생성 -> 주어진 단어 사전을 이용해서 16차원의 임베딩 레이어를 생성한다.\n",
    "embed_layer = nn.Embedding(len(str2idx), embedding_dim)\n",
    "# 임베딩 레이어에 토큰 아이디를 입력 -> 각 단어를 16차원 벡터로 변환(임베딩 수행)\n",
    "input_embeddings = embed_layer(torch.tensor(input_ids))\n",
    "# 배치 차원 추가 (torch 에서는 배치 차원이 앞에 위치해야 하므로 unsqueeze(0)을 사용) -> 딥러닝 모델은 배치 차원이 필요하다.\n",
    "input_embeddings = input_embeddings.unsqueeze(0)\n",
    "# 출력 크기 확인\n",
    "input_embeddings.shape"
   ],
   "id": "791bcee9fa52852c",
   "outputs": [
    {
     "data": {
      "text/plain": [
       "torch.Size([1, 5, 16])"
      ]
     },
     "execution_count": 7,
     "metadata": {},
     "output_type": "execute_result"
    }
   ],
   "execution_count": 7
  },
  {
   "metadata": {},
   "cell_type": "code",
   "outputs": [],
   "execution_count": null,
   "source": "",
   "id": "7c565e3c52d86fd0"
  }
 ],
 "metadata": {
  "kernelspec": {
   "display_name": "Python 3 (ipykernel)",
   "language": "python",
   "name": "python3"
  },
  "language_info": {
   "codemirror_mode": {
    "name": "ipython",
    "version": 2
   },
   "file_extension": ".py",
   "mimetype": "text/x-python",
   "name": "python",
   "nbconvert_exporter": "python",
   "pygments_lexer": "ipython2",
   "version": "2.7.6"
  }
 },
 "nbformat": 4,
 "nbformat_minor": 5
}
